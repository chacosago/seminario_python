{
 "cells": [
  {
   "cell_type": "markdown",
   "metadata": {
    "id": "PgHJzvphFMq-"
   },
   "source": [
    "# Explicación de :\n",
    "* String\n",
    "* Tuplas\n",
    "* Listas\n",
    "* Diccionarios \n"
   ]
  },
  {
   "cell_type": "markdown",
   "metadata": {
    "id": "48Xe6jnaiCM8"
   },
   "source": [
    "# Manejo de string"
   ]
  },
  {
   "cell_type": "markdown",
   "metadata": {
    "id": "PDgp5eYV90eL"
   },
   "source": [
    "## Operaciones básicas"
   ]
  },
  {
   "cell_type": "markdown",
   "metadata": {
    "id": "thJER8RIFMrH"
   },
   "source": [
    "\n",
    "```python\n",
    "s.split('delim')\n",
    "```\n",
    "> devuelve una lista de substrings separados por el delimitador dado. \n",
    "\n",
    "**Clonar el [repositorio de Numpy](https://github.com/numpy/numpy) y copiar el contenido del `README.md`**"
   ]
  },
  {
   "cell_type": "code",
   "execution_count": 4,
   "metadata": {
    "colab": {
     "base_uri": "https://localhost:8080/"
    },
    "collapsed": true,
    "id": "UwZ0lJtpFMrJ",
    "jupyter": {
     "outputs_hidden": true
    },
    "outputId": "12b01db9-84ea-449d-b174-19190aafb973"
   },
   "outputs": [
    {
     "data": {
      "text/plain": [
       "['',\n",
       " 'NumPy',\n",
       " 'is',\n",
       " 'the',\n",
       " 'fundamental',\n",
       " 'package',\n",
       " 'needed',\n",
       " 'for',\n",
       " 'scientific',\n",
       " 'computing',\n",
       " 'with',\n",
       " 'Python.\\n\\n',\n",
       " '',\n",
       " '',\n",
       " '',\n",
       " 'Website:',\n",
       " 'https://www.numpy.org\\n',\n",
       " '',\n",
       " '',\n",
       " '',\n",
       " 'Documentation:',\n",
       " 'https://numpy.org/doc\\n',\n",
       " '',\n",
       " '',\n",
       " '',\n",
       " 'Mailing',\n",
       " 'list:',\n",
       " 'https://mail.python.org/mailman/listinfo/numpy-discussion\\n',\n",
       " '',\n",
       " '',\n",
       " '',\n",
       " 'Source',\n",
       " 'code:',\n",
       " 'https://github.com/numpy/numpy\\n',\n",
       " '',\n",
       " '',\n",
       " '',\n",
       " 'Contributing:',\n",
       " 'https://www.numpy.org/devdocs/dev/index.html\\n',\n",
       " '',\n",
       " '',\n",
       " '',\n",
       " 'Bug',\n",
       " 'reports:',\n",
       " 'https://github.com/numpy/numpy/issues\\n',\n",
       " '',\n",
       " '',\n",
       " '',\n",
       " 'Report',\n",
       " 'a',\n",
       " 'security',\n",
       " 'vulnerability:',\n",
       " 'https://tidelift.com/docs/security\\n\\nIt',\n",
       " 'provides:\\n\\n',\n",
       " '',\n",
       " '',\n",
       " '',\n",
       " 'a',\n",
       " 'powerful',\n",
       " 'N-dimensional',\n",
       " 'array',\n",
       " 'object\\n',\n",
       " '',\n",
       " '',\n",
       " '',\n",
       " 'sophisticated',\n",
       " '(broadcasting)',\n",
       " 'functions\\n',\n",
       " '',\n",
       " '',\n",
       " '',\n",
       " 'tools',\n",
       " 'for',\n",
       " 'integrating',\n",
       " 'C/C++',\n",
       " 'and',\n",
       " 'Fortran',\n",
       " 'code\\n',\n",
       " '',\n",
       " '',\n",
       " '',\n",
       " 'useful',\n",
       " 'linear',\n",
       " 'algebra,',\n",
       " 'Fourier',\n",
       " 'transform,',\n",
       " 'and',\n",
       " 'random',\n",
       " 'number',\n",
       " 'capabilities\\n\\nTesting:\\n\\n',\n",
       " '',\n",
       " '',\n",
       " '',\n",
       " 'NumPy',\n",
       " 'versions',\n",
       " '≥',\n",
       " '1.15',\n",
       " 'require',\n",
       " 'pytest\\n',\n",
       " '',\n",
       " '',\n",
       " '',\n",
       " 'NumPy',\n",
       " 'versions',\n",
       " '<',\n",
       " '1.15',\n",
       " 'require',\n",
       " 'nose\\n\\nTests',\n",
       " 'can',\n",
       " 'then',\n",
       " 'be',\n",
       " 'run',\n",
       " 'after',\n",
       " 'installation',\n",
       " 'with:\\n\\npython',\n",
       " '-c',\n",
       " \"'import\",\n",
       " 'numpy;',\n",
       " \"numpy.test()'\\n\\nCall\",\n",
       " 'for',\n",
       " 'Contributions\\n\\nThe',\n",
       " 'NumPy',\n",
       " 'project',\n",
       " 'welcomes',\n",
       " 'your',\n",
       " 'expertise',\n",
       " 'and',\n",
       " 'enthusiasm!\\n\\nSmall',\n",
       " 'improvements',\n",
       " 'or',\n",
       " 'fixes',\n",
       " 'are',\n",
       " 'always',\n",
       " 'appreciated;',\n",
       " 'issues',\n",
       " 'labeled',\n",
       " 'as',\n",
       " '\"good',\n",
       " 'first',\n",
       " 'issue\"',\n",
       " 'may',\n",
       " 'be',\n",
       " 'a',\n",
       " 'good',\n",
       " 'starting',\n",
       " 'point.',\n",
       " 'If',\n",
       " 'you',\n",
       " 'are',\n",
       " 'considering',\n",
       " 'larger',\n",
       " 'contributions',\n",
       " 'to',\n",
       " 'the',\n",
       " 'source',\n",
       " 'code,',\n",
       " 'please',\n",
       " 'contact',\n",
       " 'us',\n",
       " 'through',\n",
       " 'the',\n",
       " 'mailing',\n",
       " 'list',\n",
       " 'first.\\n\\nWriting',\n",
       " 'code',\n",
       " 'isn’t',\n",
       " 'the',\n",
       " 'only',\n",
       " 'way',\n",
       " 'to',\n",
       " 'contribute',\n",
       " 'to',\n",
       " 'NumPy.',\n",
       " 'You',\n",
       " 'can',\n",
       " 'also:\\n\\n',\n",
       " '',\n",
       " '',\n",
       " '',\n",
       " 'review',\n",
       " 'pull',\n",
       " 'requests\\n',\n",
       " '',\n",
       " '',\n",
       " '',\n",
       " 'triage',\n",
       " 'issues\\n',\n",
       " '',\n",
       " '',\n",
       " '',\n",
       " 'develop',\n",
       " 'tutorials,',\n",
       " 'presentations,',\n",
       " 'and',\n",
       " 'other',\n",
       " 'educational',\n",
       " 'materials\\n',\n",
       " '',\n",
       " '',\n",
       " '',\n",
       " 'maintain',\n",
       " 'and',\n",
       " 'improve',\n",
       " 'our',\n",
       " 'website\\n',\n",
       " '',\n",
       " '',\n",
       " '',\n",
       " 'develop',\n",
       " 'graphic',\n",
       " 'design',\n",
       " 'for',\n",
       " 'our',\n",
       " 'brand',\n",
       " 'assets',\n",
       " 'and',\n",
       " 'promotional',\n",
       " 'materials\\n',\n",
       " '',\n",
       " '',\n",
       " '',\n",
       " 'translate',\n",
       " 'website',\n",
       " 'content\\n',\n",
       " '',\n",
       " '',\n",
       " '',\n",
       " 'help',\n",
       " 'with',\n",
       " 'outreach',\n",
       " 'and',\n",
       " 'onboard',\n",
       " 'new',\n",
       " 'contributors\\n',\n",
       " '',\n",
       " '',\n",
       " '',\n",
       " 'write',\n",
       " 'grant',\n",
       " 'proposals',\n",
       " 'and',\n",
       " 'help',\n",
       " 'with',\n",
       " 'other',\n",
       " 'fundraising',\n",
       " 'efforts\\n\\nIf',\n",
       " 'you’re',\n",
       " 'unsure',\n",
       " 'where',\n",
       " 'to',\n",
       " 'start',\n",
       " 'or',\n",
       " 'how',\n",
       " 'your',\n",
       " 'skills',\n",
       " 'fit',\n",
       " 'in,',\n",
       " 'reach',\n",
       " 'out!',\n",
       " 'You',\n",
       " 'can',\n",
       " 'ask',\n",
       " 'on',\n",
       " 'the',\n",
       " 'mailing',\n",
       " 'list',\n",
       " 'or',\n",
       " 'here,',\n",
       " 'on',\n",
       " 'GitHub,',\n",
       " 'by',\n",
       " 'opening',\n",
       " 'a',\n",
       " 'new',\n",
       " 'issue',\n",
       " 'or',\n",
       " 'leaving',\n",
       " 'a',\n",
       " 'comment',\n",
       " 'on',\n",
       " 'a',\n",
       " 'relevant',\n",
       " 'issue',\n",
       " 'that',\n",
       " 'is',\n",
       " 'already',\n",
       " 'open.\\n\\nOur',\n",
       " 'preferred',\n",
       " 'channels',\n",
       " 'of',\n",
       " 'communication',\n",
       " 'are',\n",
       " 'all',\n",
       " 'public,',\n",
       " 'but',\n",
       " 'if',\n",
       " 'you’d',\n",
       " 'like',\n",
       " 'to',\n",
       " 'speak',\n",
       " 'to',\n",
       " 'us',\n",
       " 'in',\n",
       " 'private',\n",
       " 'first,',\n",
       " 'contact',\n",
       " 'our',\n",
       " 'community',\n",
       " 'coordinators',\n",
       " 'at',\n",
       " 'numpy-team@googlegroups.com',\n",
       " 'or',\n",
       " 'on',\n",
       " 'Slack',\n",
       " '(write',\n",
       " 'numpy-team@googlegroups.com',\n",
       " 'for',\n",
       " 'an',\n",
       " 'invite).\\n\\nWe',\n",
       " 'also',\n",
       " 'have',\n",
       " 'a',\n",
       " 'biweekly',\n",
       " 'community',\n",
       " 'call,',\n",
       " 'details',\n",
       " 'of',\n",
       " 'which',\n",
       " 'are',\n",
       " 'announced',\n",
       " 'on',\n",
       " 'the',\n",
       " 'mailing',\n",
       " 'list.',\n",
       " 'You',\n",
       " 'are',\n",
       " 'very',\n",
       " 'welcome',\n",
       " 'to',\n",
       " 'join.\\n\\nIf',\n",
       " 'you',\n",
       " 'are',\n",
       " 'new',\n",
       " 'to',\n",
       " 'contributing',\n",
       " 'to',\n",
       " 'open',\n",
       " 'source,',\n",
       " 'this',\n",
       " 'guide',\n",
       " 'helps',\n",
       " 'explain',\n",
       " 'why,',\n",
       " 'what,',\n",
       " 'and',\n",
       " 'how',\n",
       " 'to',\n",
       " 'successfully',\n",
       " 'get',\n",
       " 'involved.\\n\\nPowered',\n",
       " 'by',\n",
       " 'NumFOCUS\\nAbout\\n\\nThe',\n",
       " 'fundamental',\n",
       " 'package',\n",
       " 'for',\n",
       " 'scientific',\n",
       " 'computing',\n",
       " 'with',\n",
       " 'Python.\\nnumpy.org\\nTopics\\npython',\n",
       " 'numpy\\nResources\\nReadme\\nLicense\\nBSD-3-Clause',\n",
       " 'License\\nReleases',\n",
       " '183\\nv1.20.1',\n",
       " 'Latest\\non',\n",
       " '7',\n",
       " 'Feb\\n+',\n",
       " '182',\n",
       " 'releases\\nSponsor',\n",
       " 'this',\n",
       " 'project\\n\\n',\n",
       " '',\n",
       " '',\n",
       " '',\n",
       " '@numfocus\\n',\n",
       " '',\n",
       " '',\n",
       " '',\n",
       " 'numfocus',\n",
       " 'NumFOCUS',\n",
       " '\\n\\n',\n",
       " '',\n",
       " '',\n",
       " '',\n",
       " 'tidelift',\n",
       " 'tidelift.com/funding/github/pypi/numpy\\n\\n',\n",
       " '',\n",
       " '',\n",
       " '',\n",
       " 'https://numpy.org/about/\\n\\nLearn',\n",
       " 'more',\n",
       " 'about',\n",
       " 'GitHub',\n",
       " 'Sponsors\\nPackages\\nNo',\n",
       " 'packages',\n",
       " 'published\\nUsed',\n",
       " 'by',\n",
       " '617k\\n\\n',\n",
       " '',\n",
       " '',\n",
       " '',\n",
       " '@sktatsuno\\n',\n",
       " '',\n",
       " '',\n",
       " '',\n",
       " '@Andy-CH-BO-AN\\n',\n",
       " '',\n",
       " '',\n",
       " '',\n",
       " '@sinablk\\n',\n",
       " '',\n",
       " '',\n",
       " '',\n",
       " '@bartmch\\n',\n",
       " '',\n",
       " '',\n",
       " '',\n",
       " '@dydwkd486\\n',\n",
       " '',\n",
       " '',\n",
       " '',\n",
       " '@mochibbb\\n',\n",
       " '',\n",
       " '',\n",
       " '',\n",
       " '@ishujais\\n',\n",
       " '',\n",
       " '',\n",
       " '',\n",
       " '@khoa-luan\\n\\n+',\n",
       " '617,044\\nContributors',\n",
       " '1,083\\n\\n',\n",
       " '',\n",
       " '',\n",
       " '',\n",
       " '@charris\\n',\n",
       " '',\n",
       " '',\n",
       " '',\n",
       " '@teoliphant\\n',\n",
       " '',\n",
       " '',\n",
       " '',\n",
       " '@mattip\\n',\n",
       " '',\n",
       " '',\n",
       " '',\n",
       " '@cournape\\n',\n",
       " '',\n",
       " '',\n",
       " '',\n",
       " '@eric-wieser\\n',\n",
       " '',\n",
       " '',\n",
       " '',\n",
       " '@seberg\\n',\n",
       " '',\n",
       " '',\n",
       " '',\n",
       " '@pearu\\n',\n",
       " '',\n",
       " '',\n",
       " '',\n",
       " '@rgommers\\n',\n",
       " '',\n",
       " '',\n",
       " '',\n",
       " '@pv\\n',\n",
       " '',\n",
       " '',\n",
       " '',\n",
       " '@juliantaylor\\n',\n",
       " '',\n",
       " '',\n",
       " '',\n",
       " '@mwiebe\\n\\n+',\n",
       " '1,072',\n",
       " 'contributors\\nLanguages\\n\\nPython',\n",
       " '63.4%\\nC',\n",
       " '35.3%\\nC++',\n",
       " '1.0%\\nJavaScript',\n",
       " '0.1%\\nFortran',\n",
       " '0.1%\\nShell',\n",
       " '0.1%']"
      ]
     },
     "execution_count": 4,
     "metadata": {},
     "output_type": "execute_result"
    }
   ],
   "source": [
    "texto = ''' NumPy is the fundamental package needed for scientific computing with Python.\n",
    "\n",
    "    Website: https://www.numpy.org\n",
    "    Documentation: https://numpy.org/doc\n",
    "    Mailing list: https://mail.python.org/mailman/listinfo/numpy-discussion\n",
    "    Source code: https://github.com/numpy/numpy\n",
    "    Contributing: https://www.numpy.org/devdocs/dev/index.html\n",
    "    Bug reports: https://github.com/numpy/numpy/issues\n",
    "    Report a security vulnerability: https://tidelift.com/docs/security\n",
    "\n",
    "It provides:\n",
    "\n",
    "    a powerful N-dimensional array object\n",
    "    sophisticated (broadcasting) functions\n",
    "    tools for integrating C/C++ and Fortran code\n",
    "    useful linear algebra, Fourier transform, and random number capabilities\n",
    "\n",
    "Testing:\n",
    "\n",
    "    NumPy versions ≥ 1.15 require pytest\n",
    "    NumPy versions < 1.15 require nose\n",
    "\n",
    "Tests can then be run after installation with:\n",
    "\n",
    "python -c 'import numpy; numpy.test()'\n",
    "\n",
    "Call for Contributions\n",
    "\n",
    "The NumPy project welcomes your expertise and enthusiasm!\n",
    "\n",
    "Small improvements or fixes are always appreciated; issues labeled as \"good first issue\" may be a good starting point. If you are considering larger contributions to the source code, please contact us through the mailing list first.\n",
    "\n",
    "Writing code isn’t the only way to contribute to NumPy. You can also:\n",
    "\n",
    "    review pull requests\n",
    "    triage issues\n",
    "    develop tutorials, presentations, and other educational materials\n",
    "    maintain and improve our website\n",
    "    develop graphic design for our brand assets and promotional materials\n",
    "    translate website content\n",
    "    help with outreach and onboard new contributors\n",
    "    write grant proposals and help with other fundraising efforts\n",
    "\n",
    "If you’re unsure where to start or how your skills fit in, reach out! You can ask on the mailing list or here, on GitHub, by opening a new issue or leaving a comment on a relevant issue that is already open.\n",
    "\n",
    "Our preferred channels of communication are all public, but if you’d like to speak to us in private first, contact our community coordinators at numpy-team@googlegroups.com or on Slack (write numpy-team@googlegroups.com for an invite).\n",
    "\n",
    "We also have a biweekly community call, details of which are announced on the mailing list. You are very welcome to join.\n",
    "\n",
    "If you are new to contributing to open source, this guide helps explain why, what, and how to successfully get involved.\n",
    "\n",
    "Powered by NumFOCUS\n",
    "About\n",
    "\n",
    "The fundamental package for scientific computing with Python.\n",
    "numpy.org\n",
    "Topics\n",
    "python numpy\n",
    "Resources\n",
    "Readme\n",
    "License\n",
    "BSD-3-Clause License\n",
    "Releases 183\n",
    "v1.20.1 Latest\n",
    "on 7 Feb\n",
    "+ 182 releases\n",
    "Sponsor this project\n",
    "\n",
    "    @numfocus\n",
    "    numfocus NumFOCUS \n",
    "\n",
    "    tidelift tidelift.com/funding/github/pypi/numpy\n",
    "\n",
    "    https://numpy.org/about/\n",
    "\n",
    "Learn more about GitHub Sponsors\n",
    "Packages\n",
    "No packages published\n",
    "Used by 617k\n",
    "\n",
    "    @sktatsuno\n",
    "    @Andy-CH-BO-AN\n",
    "    @sinablk\n",
    "    @bartmch\n",
    "    @dydwkd486\n",
    "    @mochibbb\n",
    "    @ishujais\n",
    "    @khoa-luan\n",
    "\n",
    "+ 617,044\n",
    "Contributors 1,083\n",
    "\n",
    "    @charris\n",
    "    @teoliphant\n",
    "    @mattip\n",
    "    @cournape\n",
    "    @eric-wieser\n",
    "    @seberg\n",
    "    @pearu\n",
    "    @rgommers\n",
    "    @pv\n",
    "    @juliantaylor\n",
    "    @mwiebe\n",
    "\n",
    "+ 1,072 contributors\n",
    "Languages\n",
    "\n",
    "Python 63.4%\n",
    "C 35.3%\n",
    "C++ 1.0%\n",
    "JavaScript 0.1%\n",
    "Fortran 0.1%\n",
    "Shell 0.1%'''\n",
    "texto.split(' ')"
   ]
  },
  {
   "cell_type": "code",
   "execution_count": 5,
   "metadata": {
    "colab": {
     "base_uri": "https://localhost:8080/",
     "height": 120
    },
    "id": "LXxW8u-mJrj1",
    "outputId": "173c79f0-ff66-4930-ba8e-3d08f7161c57"
   },
   "outputs": [
    {
     "data": {
      "text/plain": [
       "' NumPy is the fundamental package needed for scientific computing with Python.\\n\\n    Website: https://www.numpy.org\\n    Documentation: https://numpy.org/doc\\n    Mailing list: https://mail.python.org/mailman/listinfo/numpy-discussion\\n    Source code: https://github.com/numpy/numpy\\n    Contributing: https://www.numpy.org/devdocs/dev/index.html\\n    Bug reports: https://github.com/numpy/numpy/issues\\n    Report a security vulnerability: https://tidelift.com/docs/security\\n\\nIt provides:\\n\\n    a powerful N-dimensional array object\\n    sophisticated (broadcasting) functions\\n    tools for integrating C/C++ and Fortran code\\n    useful linear algebra, Fourier transform, and random number capabilities\\n\\nTesting:\\n\\n    NumPy versions ≥ 1.15 require pytest\\n    NumPy versions < 1.15 require nose\\n\\nTests can then be run after installation with:\\n\\npython -c \\'import numpy; numpy.test()\\'\\n\\nCall for Contributions\\n\\nThe NumPy project welcomes your expertise and enthusiasm!\\n\\nSmall improvements or fixes are always appreciated; issues labeled as \"good first issue\" may be a good starting point. If you are considering larger contributions to the source code, please contact us through the mailing list first.\\n\\nWriting code isn’t the only way to contribute to NumPy. You can also:\\n\\n    review pull requests\\n    triage issues\\n    develop tutorials, presentations, and other educational materials\\n    maintain and improve our website\\n    develop graphic design for our brand assets and promotional materials\\n    translate website content\\n    help with outreach and onboard new contributors\\n    write grant proposals and help with other fundraising efforts\\n\\nIf you’re unsure where to start or how your skills fit in, reach out! You can ask on the mailing list or here, on GitHub, by opening a new issue or leaving a comment on a relevant issue that is already open.\\n\\nOur preferred channels of communication are all public, but if you’d like to speak to us in private first, contact our community coordinators at numpy-team@googlegroups.com or on Slack (write numpy-team@googlegroups.com for an invite).\\n\\nWe also have a biweekly community call, details of which are announced on the mailing list. You are very welcome to join.\\n\\nIf you are new to contributing to open source, this guide helps explain why, what, and how to successfully get involved.\\n\\nPowered by NumFOCUS\\nAbout\\n\\nThe fundamental package for scientific computing with Python.\\nnumpy.org\\nTopics\\npython numpy\\nResources\\nReadme\\nLicense\\nBSD-3-Clause License\\nReleases 183\\nv1.20.1 Latest\\non 7 Feb\\n+ 182 releases\\nSponsor this project\\n\\n    @numfocus\\n    numfocus NumFOCUS \\n\\n    tidelift tidelift.com/funding/github/pypi/numpy\\n\\n    https://numpy.org/about/\\n\\nLearn more about GitHub Sponsors\\nPackages\\nNo packages published\\nUsed by 617k\\n\\n    @sktatsuno\\n    @Andy-CH-BO-AN\\n    @sinablk\\n    @bartmch\\n    @dydwkd486\\n    @mochibbb\\n    @ishujais\\n    @khoa-luan\\n\\n+ 617,044\\nContributors 1,083\\n\\n    @charris\\n    @teoliphant\\n    @mattip\\n    @cournape\\n    @eric-wieser\\n    @seberg\\n    @pearu\\n    @rgommers\\n    @pv\\n    @juliantaylor\\n    @mwiebe\\n\\n+ 1,072 contributors\\nLanguages\\n\\nPython 63.4%\\nC 35.3%\\nC++ 1.0%\\nJavaScript 0.1%\\nFortran 0.1%\\nShell 0.1%'"
      ]
     },
     "execution_count": 5,
     "metadata": {},
     "output_type": "execute_result"
    }
   ],
   "source": [
    "texto"
   ]
  },
  {
   "cell_type": "markdown",
   "metadata": {
    "id": "G1jE7zupFMrO"
   },
   "source": [
    "El texto no cambió, para guardar los cambios tenemos que igualarlo a una variable"
   ]
  },
  {
   "cell_type": "code",
   "execution_count": 6,
   "metadata": {
    "colab": {
     "base_uri": "https://localhost:8080/"
    },
    "collapsed": true,
    "id": "RRTwR7d1FMrP",
    "jupyter": {
     "outputs_hidden": true
    },
    "outputId": "95ab421d-ce88-4060-d806-e9fe4dcb3eba"
   },
   "outputs": [
    {
     "name": "stdout",
     "output_type": "stream",
     "text": [
      "[' NumPy is the fundamental package needed for scientific computing with Python.', '', '    Website: https://www.numpy.org', '    Documentation: https://numpy.org/doc', '    Mailing list: https://mail.python.org/mailman/listinfo/numpy-discussion', '    Source code: https://github.com/numpy/numpy', '    Contributing: https://www.numpy.org/devdocs/dev/index.html', '    Bug reports: https://github.com/numpy/numpy/issues', '    Report a security vulnerability: https://tidelift.com/docs/security', '', 'It provides:', '', '    a powerful N-dimensional array object', '    sophisticated (broadcasting) functions', '    tools for integrating C/C++ and Fortran code', '    useful linear algebra, Fourier transform, and random number capabilities', '', 'Testing:', '', '    NumPy versions ≥ 1.15 require pytest', '    NumPy versions < 1.15 require nose', '', 'Tests can then be run after installation with:', '', \"python -c 'import numpy; numpy.test()'\", '', 'Call for Contributions', '', 'The NumPy project welcomes your expertise and enthusiasm!', '', 'Small improvements or fixes are always appreciated; issues labeled as \"good first issue\" may be a good starting point. If you are considering larger contributions to the source code, please contact us through the mailing list first.', '', 'Writing code isn’t the only way to contribute to NumPy. You can also:', '', '    review pull requests', '    triage issues', '    develop tutorials, presentations, and other educational materials', '    maintain and improve our website', '    develop graphic design for our brand assets and promotional materials', '    translate website content', '    help with outreach and onboard new contributors', '    write grant proposals and help with other fundraising efforts', '', 'If you’re unsure where to start or how your skills fit in, reach out! You can ask on the mailing list or here, on GitHub, by opening a new issue or leaving a comment on a relevant issue that is already open.', '', 'Our preferred channels of communication are all public, but if you’d like to speak to us in private first, contact our community coordinators at numpy-team@googlegroups.com or on Slack (write numpy-team@googlegroups.com for an invite).', '', 'We also have a biweekly community call, details of which are announced on the mailing list. You are very welcome to join.', '', 'If you are new to contributing to open source, this guide helps explain why, what, and how to successfully get involved.', '', 'Powered by NumFOCUS', 'About', '', 'The fundamental package for scientific computing with Python.', 'numpy.org', 'Topics', 'python numpy', 'Resources', 'Readme', 'License', 'BSD-3-Clause License', 'Releases 183', 'v1.20.1 Latest', 'on 7 Feb', '+ 182 releases', 'Sponsor this project', '', '    @numfocus', '    numfocus NumFOCUS ', '', '    tidelift tidelift.com/funding/github/pypi/numpy', '', '    https://numpy.org/about/', '', 'Learn more about GitHub Sponsors', 'Packages', 'No packages published', 'Used by 617k', '', '    @sktatsuno', '    @Andy-CH-BO-AN', '    @sinablk', '    @bartmch', '    @dydwkd486', '    @mochibbb', '    @ishujais', '    @khoa-luan', '', '+ 617,044', 'Contributors 1,083', '', '    @charris', '    @teoliphant', '    @mattip', '    @cournape', '    @eric-wieser', '    @seberg', '    @pearu', '    @rgommers', '    @pv', '    @juliantaylor', '    @mwiebe', '', '+ 1,072 contributors', 'Languages', '', 'Python 63.4%', 'C 35.3%', 'C++ 1.0%', 'JavaScript 0.1%', 'Fortran 0.1%', 'Shell 0.1%']\n"
     ]
    }
   ],
   "source": [
    "texto_mod = texto.split('\\n')\n",
    "print(texto_mod)"
   ]
  },
  {
   "cell_type": "markdown",
   "metadata": {
    "id": "6PXfotNUFMrQ"
   },
   "source": [
    "Ahora la variable `texto_mod` es una lista con varios elementos, para acceder a la primera línea del `README.md`:"
   ]
  },
  {
   "cell_type": "code",
   "execution_count": 7,
   "metadata": {
    "colab": {
     "base_uri": "https://localhost:8080/",
     "height": 35
    },
    "collapsed": true,
    "id": "xfmmrQEBFMrR",
    "jupyter": {
     "outputs_hidden": true
    },
    "outputId": "0e83cf49-3673-4df1-cf5e-7f369587ffd8"
   },
   "outputs": [
    {
     "data": {
      "text/plain": [
       "' NumPy is the fundamental package needed for scientific computing with Python.'"
      ]
     },
     "execution_count": 7,
     "metadata": {},
     "output_type": "execute_result"
    }
   ],
   "source": [
    "texto_mod[0]"
   ]
  },
  {
   "cell_type": "markdown",
   "metadata": {
    "id": "CKVXH1xsFMrS"
   },
   "source": [
    "---\n",
    "```python\n",
    "s.lower()\n",
    "s.upper()\n",
    "```\n",
    "> convertir texto a minúsculas o mayúsculas."
   ]
  },
  {
   "cell_type": "code",
   "execution_count": 8,
   "metadata": {
    "colab": {
     "base_uri": "https://localhost:8080/"
    },
    "collapsed": true,
    "id": "LOJbe3C4FMrT",
    "jupyter": {
     "outputs_hidden": true
    },
    "outputId": "494662dd-8237-4530-e1c0-19219179d86e"
   },
   "outputs": [
    {
     "name": "stdout",
     "output_type": "stream",
     "text": [
      " numpy is the fundamental package needed for scientific computing with python.\n"
     ]
    }
   ],
   "source": [
    "print(texto_mod[0].lower())"
   ]
  },
  {
   "cell_type": "markdown",
   "metadata": {
    "id": "4piXwatrFMrW"
   },
   "source": [
    "---\n",
    "```python\n",
    "s.strip()\n",
    "```\n",
    "> devuelve un string sin espacios del principio o del final."
   ]
  },
  {
   "cell_type": "code",
   "execution_count": 9,
   "metadata": {
    "colab": {
     "base_uri": "https://localhost:8080/",
     "height": 35
    },
    "collapsed": true,
    "id": "w6kQeCLNFMrX",
    "jupyter": {
     "outputs_hidden": true
    },
    "outputId": "7689f11e-de2e-4dfe-9e95-4d420d887806"
   },
   "outputs": [
    {
     "data": {
      "text/plain": [
       "'NumPy is the fundamental package needed for scientific computing with Python.'"
      ]
     },
     "execution_count": 9,
     "metadata": {},
     "output_type": "execute_result"
    }
   ],
   "source": [
    "texto_mod[0].strip()"
   ]
  },
  {
   "cell_type": "markdown",
   "metadata": {
    "id": "-S5w_PM1FMrY"
   },
   "source": [
    "---\n",
    "```python\n",
    "s.isalpha()\n",
    "s.isdigit()\n",
    "s.isspace()\n",
    "```  \n",
    "> verifica si el string es sólo caracteres, sólo dígitos, sólo espacios y podemos concatenar las funciones"
   ]
  },
  {
   "cell_type": "markdown",
   "metadata": {
    "id": "qXNCdWNoFMrY"
   },
   "source": [
    "Podemos encontrar un caracter específico:"
   ]
  },
  {
   "cell_type": "code",
   "execution_count": 10,
   "metadata": {
    "colab": {
     "base_uri": "https://localhost:8080/"
    },
    "collapsed": true,
    "id": "-BUVTuB4FMrY",
    "jupyter": {
     "outputs_hidden": true
    },
    "outputId": "33504aab-0b0d-4a77-b9b6-ed6f05d00f78"
   },
   "outputs": [
    {
     "name": "stdout",
     "output_type": "stream",
     "text": [
      "Our preferred channels of communication are all public, but if you’d like to speak to us in private first, contact our community coordinators at numpy-team@googlegroups.com or on Slack (write numpy-team@googlegroups.com for an invite).\n",
      "    @numfocus\n",
      "    @sktatsuno\n",
      "    @Andy-CH-BO-AN\n",
      "    @sinablk\n",
      "    @bartmch\n",
      "    @dydwkd486\n",
      "    @mochibbb\n",
      "    @ishujais\n",
      "    @khoa-luan\n",
      "    @charris\n",
      "    @teoliphant\n",
      "    @mattip\n",
      "    @cournape\n",
      "    @eric-wieser\n",
      "    @seberg\n",
      "    @pearu\n",
      "    @rgommers\n",
      "    @pv\n",
      "    @juliantaylor\n",
      "    @mwiebe\n"
     ]
    }
   ],
   "source": [
    "for i in texto_mod:\n",
    "    if '@' in i.strip().lower():\n",
    "        print(i)"
   ]
  },
  {
   "cell_type": "markdown",
   "metadata": {
    "id": "Qu8DG9lm_mMI"
   },
   "source": [
    "---\n",
    "```python\n",
    "s.startswith('otro')\n",
    "s.endswith('otro')\n",
    "```\n",
    "> verifica si el string comienza o termina con el substring pasado como parámetro"
   ]
  },
  {
   "cell_type": "markdown",
   "metadata": {
    "id": "9N5fqpA1FMra"
   },
   "source": [
    "**Si en lugar de encontrar los que contienen sólo queremos los colaboradores del proyecto, los que comienzan con @**"
   ]
  },
  {
   "cell_type": "code",
   "execution_count": 11,
   "metadata": {
    "colab": {
     "base_uri": "https://localhost:8080/"
    },
    "collapsed": true,
    "id": "2J4SKt-3FMrc",
    "jupyter": {
     "outputs_hidden": true
    },
    "outputId": "2567c3c4-ffca-4a98-f350-dbb0990eb59b"
   },
   "outputs": [
    {
     "name": "stdout",
     "output_type": "stream",
     "text": [
      "    @numfocus\n",
      "    @sktatsuno\n",
      "    @Andy-CH-BO-AN\n",
      "    @sinablk\n",
      "    @bartmch\n",
      "    @dydwkd486\n",
      "    @mochibbb\n",
      "    @ishujais\n",
      "    @khoa-luan\n",
      "    @charris\n",
      "    @teoliphant\n",
      "    @mattip\n",
      "    @cournape\n",
      "    @eric-wieser\n",
      "    @seberg\n",
      "    @pearu\n",
      "    @rgommers\n",
      "    @pv\n",
      "    @juliantaylor\n",
      "    @mwiebe\n"
     ]
    }
   ],
   "source": [
    "for i in texto_mod:\n",
    "    if  i.strip().lower().startswith('@'):\n",
    "        print(i)"
   ]
  },
  {
   "cell_type": "markdown",
   "metadata": {
    "id": "9Ho8iEHLAZWt"
   },
   "source": [
    "---\n",
    "```python\n",
    "s.join(lista)\n",
    "```\n",
    "\n",
    "> Realiza lo opuesto a **split()**, une elementos de una lista dada generando un string que interpone entre cada palabra de la lista el string dado."
   ]
  },
  {
   "cell_type": "code",
   "execution_count": 12,
   "metadata": {
    "colab": {
     "base_uri": "https://localhost:8080/",
     "height": 167
    },
    "collapsed": true,
    "id": "lXATBJKsFMre",
    "jupyter": {
     "outputs_hidden": true
    },
    "outputId": "c02ab1ef-d442-453f-abad-6becb494a52e"
   },
   "outputs": [
    {
     "name": "stdout",
     "output_type": "stream",
     "text": [
      " NumPy is the fundamental package needed for scientific computing with Python.@@    Website: https://www.numpy.org@    Documentation: https://numpy.org/doc@    Mailing list: https://mail.python.org/mailman/listinfo/numpy-discussion@    Source code: https://github.com/numpy/numpy@    Contributing: https://www.numpy.org/devdocs/dev/index.html@    Bug reports: https://github.com/numpy/numpy/issues@    Report a security vulnerability: https://tidelift.com/docs/security@@It provides:@@    a powerful N-dimensional array object@    sophisticated (broadcasting) functions@    tools for integrating C/C++ and Fortran code@    useful linear algebra, Fourier transform, and random number capabilities@@Testing:@@    NumPy versions ≥ 1.15 require pytest@    NumPy versions < 1.15 require nose@@Tests can then be run after installation with:@@python -c 'import numpy; numpy.test()'@@Call for Contributions@@The NumPy project welcomes your expertise and enthusiasm!@@Small improvements or fixes are always appreciated; issues labeled as \"good first issue\" may be a good starting point. If you are considering larger contributions to the source code, please contact us through the mailing list first.@@Writing code isn’t the only way to contribute to NumPy. You can also:@@    review pull requests@    triage issues@    develop tutorials, presentations, and other educational materials@    maintain and improve our website@    develop graphic design for our brand assets and promotional materials@    translate website content@    help with outreach and onboard new contributors@    write grant proposals and help with other fundraising efforts@@If you’re unsure where to start or how your skills fit in, reach out! You can ask on the mailing list or here, on GitHub, by opening a new issue or leaving a comment on a relevant issue that is already open.@@Our preferred channels of communication are all public, but if you’d like to speak to us in private first, contact our community coordinators at numpy-team@googlegroups.com or on Slack (write numpy-team@googlegroups.com for an invite).@@We also have a biweekly community call, details of which are announced on the mailing list. You are very welcome to join.@@If you are new to contributing to open source, this guide helps explain why, what, and how to successfully get involved.@@Powered by NumFOCUS@About@@The fundamental package for scientific computing with Python.@numpy.org@Topics@python numpy@Resources@Readme@License@BSD-3-Clause License@Releases 183@v1.20.1 Latest@on 7 Feb@+ 182 releases@Sponsor this project@@    @numfocus@    numfocus NumFOCUS @@    tidelift tidelift.com/funding/github/pypi/numpy@@    https://numpy.org/about/@@Learn more about GitHub Sponsors@Packages@No packages published@Used by 617k@@    @sktatsuno@    @Andy-CH-BO-AN@    @sinablk@    @bartmch@    @dydwkd486@    @mochibbb@    @ishujais@    @khoa-luan@@+ 617,044@Contributors 1,083@@    @charris@    @teoliphant@    @mattip@    @cournape@    @eric-wieser@    @seberg@    @pearu@    @rgommers@    @pv@    @juliantaylor@    @mwiebe@@+ 1,072 contributors@Languages@@Python 63.4%@C 35.3%@C++ 1.0%@JavaScript 0.1%@Fortran 0.1%@Shell 0.1%\n"
     ]
    }
   ],
   "source": [
    "print('@'.join(texto_mod))"
   ]
  },
  {
   "cell_type": "markdown",
   "metadata": {
    "id": "p2ppgPdfCxVd"
   },
   "source": [
    "# Tuplas"
   ]
  },
  {
   "cell_type": "markdown",
   "metadata": {
    "id": "Dk-oAC5Iu-1h"
   },
   "source": [
    "## Operaciones básicas"
   ]
  },
  {
   "cell_type": "markdown",
   "metadata": {
    "id": "FUfRYlBJ9SlG"
   },
   "source": [
    "### Creación de tupla vacía"
   ]
  },
  {
   "cell_type": "code",
   "execution_count": 19,
   "metadata": {
    "colab": {
     "base_uri": "https://localhost:8080/"
    },
    "id": "SmvREsXIaQwe",
    "outputId": "0699ea97-0eb1-472f-9026-4a369bad1e5f"
   },
   "outputs": [
    {
     "name": "stdout",
     "output_type": "stream",
     "text": [
      "()\n"
     ]
    }
   ],
   "source": [
    "t = tuple()\n",
    "print(t)"
   ]
  },
  {
   "cell_type": "markdown",
   "metadata": {
    "id": "xoOYHlSt9VU5"
   },
   "source": [
    "### Tupla a partir de una Lista\n"
   ]
  },
  {
   "cell_type": "code",
   "execution_count": 20,
   "metadata": {
    "colab": {
     "base_uri": "https://localhost:8080/"
    },
    "id": "7abyU1KValET",
    "outputId": "80c856fd-e7d1-4caa-8ad2-bd6ce106cb5e"
   },
   "outputs": [
    {
     "name": "stdout",
     "output_type": "stream",
     "text": [
      "(1, 2, 3)\n"
     ]
    }
   ],
   "source": [
    "t = tuple([1,2,3])\n",
    "print(t)"
   ]
  },
  {
   "cell_type": "markdown",
   "metadata": {
    "id": "Fg_W5OfW9YVj"
   },
   "source": [
    "### Creación simple\n"
   ]
  },
  {
   "cell_type": "code",
   "execution_count": 21,
   "metadata": {
    "colab": {
     "base_uri": "https://localhost:8080/"
    },
    "id": "deeaN1urauY4",
    "outputId": "cd928ada-2b78-40fd-a00c-46b7c3f30d35"
   },
   "outputs": [
    {
     "name": "stdout",
     "output_type": "stream",
     "text": [
      "(1, 2, 3)\n",
      "(3, 2, 1)\n"
     ]
    }
   ],
   "source": [
    "t = 1, 2, 3\n",
    "print(t)\n",
    "t = (3, 2, 1)\n",
    "print(t)"
   ]
  },
  {
   "cell_type": "markdown",
   "metadata": {
    "id": "-Ox1uwGH9Cqt"
   },
   "source": [
    "### Tupla de un solo valor"
   ]
  },
  {
   "cell_type": "code",
   "execution_count": 22,
   "metadata": {
    "colab": {
     "base_uri": "https://localhost:8080/"
    },
    "id": "E5GNdZNAa8m8",
    "outputId": "4ed68a85-ef90-4914-ceaf-1979762276c3"
   },
   "outputs": [
    {
     "name": "stdout",
     "output_type": "stream",
     "text": [
      "(1,)\n",
      "(2,)\n"
     ]
    }
   ],
   "source": [
    "\n",
    "\n",
    "t = 1, # Necesita la \",\" al final\n",
    "print(t)\n",
    "t = (2,)\n",
    "print(t)"
   ]
  },
  {
   "cell_type": "markdown",
   "metadata": {
    "id": "RKMTQew786tw"
   },
   "source": [
    "### Así como se pueden *Empaquetar*, podemos Desempaquetar las tuplas\n"
   ]
  },
  {
   "cell_type": "code",
   "execution_count": 23,
   "metadata": {
    "colab": {
     "base_uri": "https://localhost:8080/"
    },
    "id": "3Dbz0XspbMhY",
    "outputId": "01b8e681-4004-4ad2-9c24-26488f359c93"
   },
   "outputs": [
    {
     "name": "stdout",
     "output_type": "stream",
     "text": [
      "(1, 'Python', True)\n",
      "Número: 1\n",
      "String: Python\n",
      "Boolean: True\n"
     ]
    }
   ],
   "source": [
    "t = 1, \"Python\", True\n",
    "print(t)\n",
    "num, string, boolean = t\n",
    "print(f\"Número: {num}\")\n",
    "print(f\"String: {string}\")\n",
    "print(f\"Boolean: {boolean}\")"
   ]
  },
  {
   "cell_type": "markdown",
   "metadata": {
    "id": "AMwuEzheCrX3"
   },
   "source": [
    "# Listas"
   ]
  },
  {
   "cell_type": "markdown",
   "metadata": {
    "id": "xfpvzjSCvIUm"
   },
   "source": [
    "## Operaciones básicas"
   ]
  },
  {
   "cell_type": "markdown",
   "metadata": {
    "id": "pIbpo2B495Y-"
   },
   "source": [
    "### Agregar elemento al final de la lista\n"
   ]
  },
  {
   "cell_type": "code",
   "execution_count": null,
   "metadata": {
    "colab": {
     "base_uri": "https://localhost:8080/"
    },
    "id": "WS4Cj7A1dh2N",
    "outputId": "14db07d5-275b-492b-d83d-f634a7a422ec"
   },
   "outputs": [
    {
     "name": "stdout",
     "output_type": "stream",
     "text": [
      "[1, 2, 3, 4]\n"
     ]
    }
   ],
   "source": [
    "numbers = [1,2,3]\n",
    "numbers.append(4)\n",
    "print(numbers)"
   ]
  },
  {
   "cell_type": "markdown",
   "metadata": {
    "id": "ky68gsOR977E"
   },
   "source": [
    "### Extender una lista\n"
   ]
  },
  {
   "cell_type": "code",
   "execution_count": 24,
   "metadata": {
    "colab": {
     "base_uri": "https://localhost:8080/"
    },
    "id": "YsGyBzcWeB-6",
    "outputId": "3dcd829f-583c-417c-b877-a78a9a4bf85f"
   },
   "outputs": [
    {
     "name": "stdout",
     "output_type": "stream",
     "text": [
      "Listado de letras: ['a', 'b', 'c', 'd', 'e']\n",
      "Listado de números: [1, 2, 3, 4, 5, 6]\n",
      "Listado de palabras: ['programando', 'en', 'p', 'y', 't', 'h', 'o', 'n']\n"
     ]
    }
   ],
   "source": [
    "letters = [\"a\", \"b\", \"c\"]\n",
    "letters.extend([\"d\", \"e\"])\n",
    "print(\"Listado de letras:\", letters)\n",
    "\n",
    "# También se puede extender una lista con una tupla\n",
    "numbers = [1, 2, 3]\n",
    "numbers.extend((4,5,6))\n",
    "print(\"Listado de números:\", numbers)\n",
    "\n",
    "# También con una cadana de caracteres (string) pero es raro.\n",
    "words = [\"programando\", \"en\"]\n",
    "words.extend(\"python\")\n",
    "print(\"Listado de palabras:\", words)"
   ]
  },
  {
   "cell_type": "markdown",
   "metadata": {
    "id": "fbJsHt8U9_vQ"
   },
   "source": [
    "### Insertar en una posición\n"
   ]
  },
  {
   "cell_type": "code",
   "execution_count": 25,
   "metadata": {
    "colab": {
     "base_uri": "https://localhost:8080/"
    },
    "id": "Jt_C3E1HfyDO",
    "outputId": "99625420-cb15-4fa7-f734-a87e847e640e"
   },
   "outputs": [
    {
     "name": "stdout",
     "output_type": "stream",
     "text": [
      "Inserto el 0 al principio: [0, 1, 2, 3]\n",
      "Inserto el 10 en la posición 1: [0, 10, 1, 2, 3]\n"
     ]
    }
   ],
   "source": [
    "numbers = [1,2,3]\n",
    "numbers.insert(0, 0)\n",
    "print(\"Inserto el 0 al principio:\", numbers)\n",
    "numbers.insert(1, 10)\n",
    "print(\"Inserto el 10 en la posición 1:\", numbers)\n",
    "\n"
   ]
  },
  {
   "cell_type": "markdown",
   "metadata": {
    "id": "jH4UsnCZ-DWg"
   },
   "source": [
    "¿Cómo implementaría el append con el insert?"
   ]
  },
  {
   "cell_type": "markdown",
   "metadata": {
    "id": "TYSX7dHt-H97"
   },
   "source": [
    "### Eliminar un elemento de una lista\n"
   ]
  },
  {
   "cell_type": "code",
   "execution_count": null,
   "metadata": {
    "colab": {
     "base_uri": "https://localhost:8080/"
    },
    "id": "ty8SKiA3iteC",
    "outputId": "2a176694-666e-4016-b3f0-30497bfe3702"
   },
   "outputs": [
    {
     "name": "stdout",
     "output_type": "stream",
     "text": [
      "Elimino el número 2: [1, 3, 4]\n"
     ]
    }
   ],
   "source": [
    "numbers = [1,2,3,4]\n",
    "numbers.remove(2)\n",
    "print(\"Elimino el número 2:\", numbers)\n",
    "# ¿Qué pasa si el valor no existe en la lista?"
   ]
  },
  {
   "cell_type": "markdown",
   "metadata": {
    "id": "wZ_yGl3r-KkK"
   },
   "source": [
    "### Quitar un elemento de la lista y lo retorna\n"
   ]
  },
  {
   "cell_type": "code",
   "execution_count": 27,
   "metadata": {
    "colab": {
     "base_uri": "https://localhost:8080/"
    },
    "id": "q6OCllj2nGYh",
    "outputId": "f092a8bf-6720-4386-8d8b-66953c98feb2"
   },
   "outputs": [
    {
     "name": "stdout",
     "output_type": "stream",
     "text": [
      "El último elemento de la lista era el: 4\n",
      "La lista resultante: [1, 2, 3]\n",
      "El elemento en la posición 1 era: 2\n",
      "La lista resultante es: [1, 3]\n"
     ]
    }
   ],
   "source": [
    "numbers = [1,2,3,4]\n",
    "last_number = numbers.pop()\n",
    "print(\"El último elemento de la lista era el:\", last_number)\n",
    "print(\"La lista resultante:\", numbers)\n",
    "\n",
    "number = numbers.pop(1)\n",
    "print(\"El elemento en la posición 1 era:\", number)\n",
    "print(\"La lista resultante es:\", numbers)"
   ]
  },
  {
   "cell_type": "markdown",
   "metadata": {
    "id": "uppaqh0C-NS_"
   },
   "source": [
    "### Eliminar todos los elementos de la lista\n"
   ]
  },
  {
   "cell_type": "code",
   "execution_count": 28,
   "metadata": {
    "colab": {
     "base_uri": "https://localhost:8080/"
    },
    "id": "mHEzC2nUpB1e",
    "outputId": "e9dd6674-3551-476a-8268-69e83c7c5232"
   },
   "outputs": [
    {
     "name": "stdout",
     "output_type": "stream",
     "text": [
      "Lista de letras: ['a', 'b', 'c']\n",
      "Lista sin elementos: []\n"
     ]
    }
   ],
   "source": [
    "letters = ['a', 'b', 'c']\n",
    "print(\"Lista de letras:\", letters)\n",
    "letters.clear()\n",
    "print(\"Lista sin elementos:\", letters)"
   ]
  },
  {
   "cell_type": "markdown",
   "metadata": {
    "id": "7v5oYvq8-QBb"
   },
   "source": [
    "### Obtener el índice de un elemento\n"
   ]
  },
  {
   "cell_type": "code",
   "execution_count": 31,
   "metadata": {
    "colab": {
     "base_uri": "https://localhost:8080/"
    },
    "id": "yjIeI6vvpXNz",
    "outputId": "8d07e87b-4706-4cb0-f8d9-3a195a3aadd7"
   },
   "outputs": [
    {
     "name": "stdout",
     "output_type": "stream",
     "text": [
      "Índice del elemento b: 1\n"
     ]
    }
   ],
   "source": [
    "letters = ['a', 'b', 'c']\n",
    "index = letters.index('b')\n",
    "print(\"Índice del elemento b:\", index)\n"
   ]
  },
  {
   "cell_type": "markdown",
   "metadata": {
    "id": "jCW8WVdL-TCE"
   },
   "source": [
    "¿Qué ocurre si el elemento no existe?"
   ]
  },
  {
   "cell_type": "markdown",
   "metadata": {
    "id": "VKf0BLFP-fnz"
   },
   "source": [
    "### Contar la cantidad de veces que aparece un elemento en la lista\n"
   ]
  },
  {
   "cell_type": "code",
   "execution_count": 34,
   "metadata": {
    "colab": {
     "base_uri": "https://localhost:8080/"
    },
    "id": "WGS7DXFJp_PL",
    "outputId": "1d99befd-73c1-417c-ca75-99a912e4461d"
   },
   "outputs": [
    {
     "name": "stdout",
     "output_type": "stream",
     "text": [
      "Cantidad de manzanas entre las frutas que tengo: 2\n"
     ]
    }
   ],
   "source": [
    "fruits = ['manzana', 'frutilla', 'Manzana', 'manzana']\n",
    "count = fruits.count('manzana')\n",
    "print(\"Cantidad de manzanas entre las frutas que tengo:\", count)"
   ]
  },
  {
   "cell_type": "markdown",
   "metadata": {
    "id": "4yrlmt1S_BST"
   },
   "source": [
    "### Ordenar los elementos de una lista\n"
   ]
  },
  {
   "cell_type": "code",
   "execution_count": 38,
   "metadata": {
    "colab": {
     "base_uri": "https://localhost:8080/"
    },
    "id": "CweJuvH1qs68",
    "outputId": "1f396302-7100-4b8b-d727-1df86c5319a5"
   },
   "outputs": [
    {
     "name": "stdout",
     "output_type": "stream",
     "text": [
      "Lista de números: [2, 4, 1, 3]\n",
      "Lista de números ordenada: [1, 2, 3, 4]\n",
      "Lista de letras: ['b', 'a', 'd', 'c']\n",
      "Lista de letras ordenada pero en orden inverso: ['d', 'c', 'b', 'a']\n"
     ]
    }
   ],
   "source": [
    "numbers = [2,4,1,3]\n",
    "print(\"Lista de números:\", numbers)\n",
    "numbers.sort()\n",
    "print(\"Lista de números ordenada:\", numbers)\n",
    "letters = ['b', 'a', 'd', 'c']\n",
    "print(\"Lista de letras:\", letters)\n",
    "letters.sort(reverse=True)\n",
    "print(\"Lista de letras ordenada pero en orden inverso:\", letters)"
   ]
  },
  {
   "cell_type": "markdown",
   "metadata": {
    "id": "POYzjWwc_F07"
   },
   "source": [
    "### Invertir los elementos de una lista\n"
   ]
  },
  {
   "cell_type": "code",
   "execution_count": 39,
   "metadata": {
    "colab": {
     "base_uri": "https://localhost:8080/"
    },
    "id": "xktXaG1dsb6U",
    "outputId": "e2bab389-7901-4705-e7ef-0f2eab6f15d4"
   },
   "outputs": [
    {
     "name": "stdout",
     "output_type": "stream",
     "text": [
      "Lista de números: [1, 6, 3, 0]\n",
      "Lista de número invertida: [0, 3, 6, 1]\n"
     ]
    }
   ],
   "source": [
    "numbers = [1,6,3,0]\n",
    "print(\"Lista de números:\", numbers)\n",
    "numbers.reverse() # Similar al lista.sort(reverse=True)\n",
    "print(\"Lista de número invertida:\", numbers) "
   ]
  },
  {
   "cell_type": "markdown",
   "metadata": {
    "id": "iKHP_uMM_Ksh"
   },
   "source": [
    "### Copiar una lista\n"
   ]
  },
  {
   "cell_type": "code",
   "execution_count": 40,
   "metadata": {
    "colab": {
     "base_uri": "https://localhost:8080/"
    },
    "id": "qIDLBISIs4kx",
    "outputId": "5d9fcf44-0c56-49bf-8b2e-01e7deaa9d8f"
   },
   "outputs": [
    {
     "name": "stdout",
     "output_type": "stream",
     "text": [
      "Lista de números: [1, 2, 3, 4]\n",
      "Copia de la lista: [1, 2, 3, 4]\n",
      "¿Nueva lista? [1, 2, 3, 4]\n"
     ]
    }
   ],
   "source": [
    "numbers = [1,2,3,4]\n",
    "numbers_copy = numbers.copy()\n",
    "print(\"Lista de números:\", numbers)\n",
    "print(\"Copia de la lista:\", numbers_copy)\n",
    "\n",
    "# ¿Cuál es la diferencia con esto?\n",
    "new_numbers = numbers\n",
    "print(\"¿Nueva lista?\", new_numbers)"
   ]
  },
  {
   "cell_type": "markdown",
   "metadata": {
    "id": "aTDNFUuJvPpV"
   },
   "source": [
    "## Operaciones avanzadas"
   ]
  },
  {
   "cell_type": "markdown",
   "metadata": {
    "id": "S1c-wHl7OLEa"
   },
   "source": [
    "##### **zip**\n"
   ]
  },
  {
   "cell_type": "markdown",
   "metadata": {
    "id": "_AJaMpJUOP-E"
   },
   "source": [
    "Supongamos que tenemos dos listas:\n",
    "\n"
   ]
  },
  {
   "cell_type": "code",
   "execution_count": 41,
   "metadata": {
    "id": "t1W0p7qPOs49"
   },
   "outputs": [],
   "source": [
    "e1 = [3,4,5,6]\n",
    "e2 = [13,43,62,73]"
   ]
  },
  {
   "cell_type": "markdown",
   "metadata": {
    "id": "UUiokI97Oro7"
   },
   "source": [
    "Ambas tienen la misma longiutd:"
   ]
  },
  {
   "cell_type": "code",
   "execution_count": 57,
   "metadata": {
    "colab": {
     "base_uri": "https://localhost:8080/"
    },
    "id": "M2_UXob_OxPE",
    "outputId": "fc80115d-05c2-4466-b51f-fab3ef2a31db"
   },
   "outputs": [
    {
     "name": "stdout",
     "output_type": "stream",
     "text": [
      "4\n",
      "4\n"
     ]
    }
   ],
   "source": [
    "print(len(e1))\n",
    "print(len(e2))"
   ]
  },
  {
   "cell_type": "markdown",
   "metadata": {
    "id": "qris9kmMQxSg"
   },
   "source": [
    "Teniendo en cuenta que las listas representan notas y el orden es importante porque se corresponden con un estudiante  ¿Cómo podríamos armar una estructura que contenga ambas notas"
   ]
  },
  {
   "cell_type": "code",
   "execution_count": 62,
   "metadata": {
    "id": "B6tYh0E9QaVa"
   },
   "outputs": [],
   "source": [
    "notas = list(zip(e1,e2))"
   ]
  },
  {
   "cell_type": "code",
   "execution_count": 63,
   "metadata": {
    "colab": {
     "base_uri": "https://localhost:8080/"
    },
    "id": "KXp8tonxQer5",
    "outputId": "1e87c4e0-97c4-45f9-bdd9-278b02cfe78d"
   },
   "outputs": [
    {
     "name": "stdout",
     "output_type": "stream",
     "text": [
      "[(3, 13), (4, 43), (5, 62), (6, 73)]\n"
     ]
    }
   ],
   "source": [
    "print(notas)"
   ]
  },
  {
   "cell_type": "markdown",
   "metadata": {
    "id": "06WVhskS_reF"
   },
   "source": [
    "Veamos qué pasa si ejecutamos nuevamente el print"
   ]
  },
  {
   "cell_type": "code",
   "execution_count": 61,
   "metadata": {
    "colab": {
     "base_uri": "https://localhost:8080/"
    },
    "id": "yksk-SUS_j1O",
    "outputId": "a6dd9834-52c8-4038-93eb-801ec6983738"
   },
   "outputs": [
    {
     "name": "stdout",
     "output_type": "stream",
     "text": [
      "()\n"
     ]
    }
   ],
   "source": [
    "print(tuple(notas))"
   ]
  },
  {
   "cell_type": "markdown",
   "metadata": {
    "id": "z8bXuhg1YpgA"
   },
   "source": [
    "¿Qué pasó?\n",
    "**zip** genera un iterador por lo tanto una vez que lo accedemos el iterador apunta al final,"
   ]
  },
  {
   "cell_type": "markdown",
   "metadata": {
    "id": "hF4nc7UbXAdr"
   },
   "source": [
    "Ahora juntamos las notas con los nombres de los estudiantes"
   ]
  },
  {
   "cell_type": "code",
   "execution_count": 64,
   "metadata": {
    "id": "y-mHyieBXUHq"
   },
   "outputs": [],
   "source": [
    "nombres = ['Agustin', 'Ailen',  'Alfredo', 'Amalia']"
   ]
  },
  {
   "cell_type": "code",
   "execution_count": 66,
   "metadata": {
    "colab": {
     "base_uri": "https://localhost:8080/"
    },
    "id": "DvMGsJUxXb44",
    "outputId": "62b7121d-4b70-4962-9d6b-0636c7e91574"
   },
   "outputs": [
    {
     "name": "stdout",
     "output_type": "stream",
     "text": [
      "[('Agustin', 3, 13), ('Ailen', 4, 43), ('Alfredo', 5, 62), ('Amalia', 6, 73)]\n"
     ]
    }
   ],
   "source": [
    "nombres_notas = list(zip(nombres,e1, e2))\n",
    "print(nombres_notas)"
   ]
  },
  {
   "cell_type": "code",
   "execution_count": 67,
   "metadata": {
    "colab": {
     "base_uri": "https://localhost:8080/"
    },
    "id": "9-1qXRcHZYQ_",
    "outputId": "a99fd12e-94fb-4da9-f91a-cec3df424e6c"
   },
   "outputs": [
    {
     "data": {
      "text/plain": [
       "[('Agustin', 3, 13), ('Ailen', 4, 43), ('Alfredo', 5, 62), ('Amalia', 6, 73)]"
      ]
     },
     "execution_count": 67,
     "metadata": {},
     "output_type": "execute_result"
    }
   ],
   "source": [
    "nombres_notas"
   ]
  },
  {
   "cell_type": "markdown",
   "metadata": {
    "id": "bwLyVxIkO35U"
   },
   "source": [
    "Si quisiéramos armar una lista con la suma de ambas notas cómo se les ocurre que podríamos hacer"
   ]
  },
  {
   "cell_type": "code",
   "execution_count": 68,
   "metadata": {
    "colab": {
     "base_uri": "https://localhost:8080/"
    },
    "id": "gU5KXDbCPLA8",
    "outputId": "6e98e685-38e5-4251-bbad-f68b32e2d055"
   },
   "outputs": [
    {
     "data": {
      "text/plain": [
       "[16, 47, 67, 79]"
      ]
     },
     "execution_count": 68,
     "metadata": {},
     "output_type": "execute_result"
    }
   ],
   "source": [
    "total = []\n",
    "for est in nombres_notas:\n",
    "    total.append(est[1]+est[2])\n",
    "\n",
    "total"
   ]
  },
  {
   "cell_type": "markdown",
   "metadata": {
    "id": "imuaiXNrPzLq"
   },
   "source": [
    "Y si pudiéramos hacerlo más simple y más claro accediendo directamente a las notas de ambas listas:"
   ]
  },
  {
   "cell_type": "code",
   "execution_count": 69,
   "metadata": {
    "colab": {
     "base_uri": "https://localhost:8080/"
    },
    "id": "Gi7DnHQaQAZp",
    "outputId": "f182d6c0-19c7-4212-aa7b-cb917a11a6aa"
   },
   "outputs": [
    {
     "data": {
      "text/plain": [
       "[16, 47, 67, 79]"
      ]
     },
     "execution_count": 69,
     "metadata": {},
     "output_type": "execute_result"
    }
   ],
   "source": [
    "total = []\n",
    "for nota1, nota2 in zip(e1,e2):\n",
    "    total.append(sum([nota1,nota2]))\n",
    "\n",
    "total"
   ]
  },
  {
   "cell_type": "markdown",
   "metadata": {
    "id": "B_xRfWjjEuDy"
   },
   "source": [
    "# Diccionarios"
   ]
  },
  {
   "cell_type": "markdown",
   "metadata": {
    "id": "zKLJ5Y9UwVFv"
   },
   "source": [
    "## Operaciones básicas"
   ]
  },
  {
   "cell_type": "markdown",
   "metadata": {
    "id": "bWL9l-inDTJH"
   },
   "source": [
    "### Vaciar diccionario\n"
   ]
  },
  {
   "cell_type": "code",
   "execution_count": 79,
   "metadata": {
    "colab": {
     "base_uri": "https://localhost:8080/"
    },
    "id": "NnbxiuYOwXQR",
    "outputId": "48e93d63-ac92-40b2-84e0-9a20c8a7f0ed"
   },
   "outputs": [
    {
     "name": "stdout",
     "output_type": "stream",
     "text": [
      "Diccionario vacío: {}\n"
     ]
    }
   ],
   "source": [
    "person = {\"name\": \"José\", \"age\": 15}\n",
    "person.clear()\n",
    "\n",
    "print(\"Diccionario vacío:\", person)"
   ]
  },
  {
   "cell_type": "code",
   "execution_count": 80,
   "metadata": {},
   "outputs": [
    {
     "data": {
      "text/plain": [
       "{}"
      ]
     },
     "execution_count": 80,
     "metadata": {},
     "output_type": "execute_result"
    }
   ],
   "source": [
    "person = dict()\n",
    "person"
   ]
  },
  {
   "cell_type": "markdown",
   "metadata": {
    "id": "8hXouuXGDskg"
   },
   "source": [
    "### Copiar diccionario"
   ]
  },
  {
   "cell_type": "code",
   "execution_count": 81,
   "metadata": {
    "colab": {
     "base_uri": "https://localhost:8080/"
    },
    "id": "6Ex6OSUhDTGx",
    "outputId": "7879e84a-11a8-4488-990d-2e711fb402bb"
   },
   "outputs": [
    {
     "name": "stdout",
     "output_type": "stream",
     "text": [
      "Persona original: {'name': 'José', 'age': 15}\n",
      "Copia de la persona: {'name': 'Ana', 'age': 15}\n"
     ]
    }
   ],
   "source": [
    "person = {\"name\": \"José\", \"age\": 15}\n",
    "new_person = person.copy()\n",
    "new_person[\"name\"] = \"Ana\"\n",
    "\n",
    "print(\"Persona original:\", person)\n",
    "print(\"Copia de la persona:\", new_person)"
   ]
  },
  {
   "cell_type": "markdown",
   "metadata": {
    "id": "hHNKsQcdDxdW"
   },
   "source": [
    "### Crear diccionario desde un set de claves\n"
   ]
  },
  {
   "cell_type": "code",
   "execution_count": 83,
   "metadata": {
    "colab": {
     "base_uri": "https://localhost:8080/"
    },
    "id": "LANpMYM2FD-8",
    "outputId": "f440bdb8-f601-4d45-8add-a2a2a3e9b4d9"
   },
   "outputs": [
    {
     "name": "stdout",
     "output_type": "stream",
     "text": [
      "Diccionario de vocales: {'a': None, 'c': None, 'b': None}\n",
      "Diccionario de frutas inicializado con 0: {'frutilla': 0, 'banana': 0, 'manzana': 0}\n"
     ]
    }
   ],
   "source": [
    "\n",
    "vowel_keys = {'a','b','c'}\n",
    "vowels = dict.fromkeys(vowel_keys)\n",
    "print(\"Diccionario de vocales:\", vowels)\n",
    "\n",
    "fruit_keys = {'manzana', 'banana', 'frutilla'}\n",
    "fruits = dict.fromkeys(fruit_keys, 0)\n",
    "print(\"Diccionario de frutas inicializado con 0:\", fruits)\n"
   ]
  },
  {
   "cell_type": "markdown",
   "metadata": {
    "id": "vb8-qhBKEGj9"
   },
   "source": [
    "### Retornar el valor de una clave\n"
   ]
  },
  {
   "cell_type": "code",
   "execution_count": 95,
   "metadata": {
    "colab": {
     "base_uri": "https://localhost:8080/"
    },
    "id": "jQTdwBtCG87N",
    "outputId": "0227c9e3-8f5c-430b-e7de-eaca7b20d7e2"
   },
   "outputs": [
    {
     "name": "stdout",
     "output_type": "stream",
     "text": [
      "Nombre: María\n",
      "Edad: 50\n",
      "Dirección: None\n",
      "Email: default@email.com\n",
      "Otra forma de obtener el nombe: María\n"
     ]
    }
   ],
   "source": [
    "person = {\"name\": \"María\", \"age\": 50}\n",
    "print(\"Nombre:\", person.get(\"name\"))\n",
    "print(\"Edad:\", person.get(\"age\", 20))\n",
    "print(\"Dirección:\", person.get(\"address\"))\n",
    "print(\"Email:\", person.get(\"email\", \"default@email.com\"))\n",
    "\n",
    "print(\"Otra forma de obtener el nombe:\", person[\"name\"])"
   ]
  },
  {
   "cell_type": "markdown",
   "metadata": {
    "id": "De0N5mQ2EOqF"
   },
   "source": [
    "### Transformar el diccionario en una lista de items\n"
   ]
  },
  {
   "cell_type": "code",
   "execution_count": 96,
   "metadata": {
    "colab": {
     "base_uri": "https://localhost:8080/"
    },
    "id": "6AUT2IPlIZZ7",
    "outputId": "b1df9614-61e0-4234-9e66-d1beb9c07a2d"
   },
   "outputs": [
    {
     "name": "stdout",
     "output_type": "stream",
     "text": [
      "Listado de herramientas: dict_items([('martillo', 4), ('serrucho', 2), ('clavos', [2, 3, 4])])\n"
     ]
    }
   ],
   "source": [
    "tools = {\"martillo\": 4, \"serrucho\": 2, \"clavos\": [2,3,4]}\n",
    "\n",
    "print(\"Listado de herramientas:\", tools.items())"
   ]
  },
  {
   "cell_type": "markdown",
   "metadata": {
    "id": "At_EJ1hMESe6"
   },
   "source": [
    "### Listar las claves de un diccionario\n"
   ]
  },
  {
   "cell_type": "code",
   "execution_count": 97,
   "metadata": {
    "colab": {
     "base_uri": "https://localhost:8080/"
    },
    "id": "MwRasDkwZDXz",
    "outputId": "71ba8601-d7ad-4e29-e54d-2a6f1edbe57f"
   },
   "outputs": [
    {
     "name": "stdout",
     "output_type": "stream",
     "text": [
      "Herramientas: dict_keys(['martillo', 'serrucho', 'clavos'])\n"
     ]
    }
   ],
   "source": [
    "tools = {\"martillo\": 4, \"serrucho\": 2, \"clavos\": 50}\n",
    "\n",
    "print(\"Herramientas:\", tools.keys())"
   ]
  },
  {
   "cell_type": "markdown",
   "metadata": {
    "id": "jYQkTmz8EYrn"
   },
   "source": [
    "### Obtengo un elemento y lo quito del diccionario\n"
   ]
  },
  {
   "cell_type": "code",
   "execution_count": 99,
   "metadata": {
    "colab": {
     "base_uri": "https://localhost:8080/"
    },
    "id": "FLTvdQffZgR6",
    "outputId": "45c54b28-8286-468c-e16b-6d61687e78b5"
   },
   "outputs": [
    {
     "name": "stdout",
     "output_type": "stream",
     "text": [
      "Persona: {'name': 'María', 'age': 50}\n",
      "Email: ('email', 'maria@mail.com')\n",
      "<class 'tuple'>\n"
     ]
    }
   ],
   "source": [
    "person = {\"name\": \"María\", \"age\": 50, \"email\": \"maria@mail.com\"}\n",
    "email = person.popitem()\n",
    "\n",
    "print(\"Persona:\", person)\n",
    "print(\"Email:\", email)\n",
    "print(type(email))"
   ]
  },
  {
   "cell_type": "markdown",
   "metadata": {
    "id": "7sLmCmj3t1ZF"
   },
   "source": [
    "En el caso de que tengamos un string que contiene líneas vacías y espacios que necesitamos identifcar, podemos recorrer buscando estas situaciones."
   ]
  },
  {
   "cell_type": "code",
   "execution_count": 14,
   "metadata": {
    "id": "yXpJznsfuiQe"
   },
   "outputs": [],
   "source": [
    "info ='''\n",
    "Ubicación\n",
    "    Capital Federal(245)\n",
    "    Bs.As. G.B.A. Sur(200)\n",
    "    Bs.As. G.B.A. Oeste(181)\n",
    "    Bs.As. G.B.A. Norte(163)\n",
    "    Buenos Aires Interior(107)\n",
    "    Córdoba(81)\n",
    "    Santa Fe(35)\n",
    "    Bs.As. Costa Atlántica(22)\n",
    "    Entre Ríos(18)\n",
    "\n",
    "\n",
    "Modelo\n",
    "    FZ16(190)\n",
    "    FZ25(136)\n",
    "    FZ(124)\n",
    "    FZFI(102)\n",
    "    FZ 2.0(43)\n",
    "    FZS(16)\n",
    "    Fazer Fi(13)\n",
    "    FZ6 FAZER(12)\n",
    "    Fazer 250(9)\n",
    "\n",
    "\n",
    "Cilindrada\n",
    "    150 cc o menos(529)\n",
    "    150 a 160 cc(700)\n",
    "    160 cc o más(521)\n",
    "'''"
   ]
  },
  {
   "cell_type": "markdown",
   "metadata": {
    "id": "djdPmq6Kxt-A"
   },
   "source": [
    "Veamos cómo identificar:\n",
    "1. filtros: Ubicación, Modelo Cilindrada\n",
    "2. opciones de cada filtro y cantidad\n",
    "3. las líneas que no tienen contenido"
   ]
  },
  {
   "cell_type": "markdown",
   "metadata": {
    "id": "0VKzJNmG1wMv"
   },
   "source": [
    "Primero separamos el string por cada salto de línea"
   ]
  },
  {
   "cell_type": "code",
   "execution_count": 101,
   "metadata": {
    "id": "IH6UgpDO2X0i"
   },
   "outputs": [
    {
     "data": {
      "text/plain": [
       "['hola', '', '  \\t como', 'va']"
      ]
     },
     "execution_count": 101,
     "metadata": {},
     "output_type": "execute_result"
    }
   ],
   "source": [
    "con_blancos = '''hola\n",
    "\n",
    "  \\t como\n",
    "va'''\n",
    "separo = con_blancos.split('\\n')\n",
    "separo"
   ]
  },
  {
   "cell_type": "markdown",
   "metadata": {
    "id": "ZjUxJR6w14I6"
   },
   "source": [
    "### Luego debemos recorrer la lista\n",
    "Para identificar los nombres de los filtros(1), debemos descartar las líneas en blanco y las líneas que contienen espacios al comienzo.\n",
    "\n",
    "Las líneas en blanco podemos descartar preguntando por la longitud igual a 0:"
   ]
  },
  {
   "cell_type": "code",
   "execution_count": 102,
   "metadata": {
    "id": "4A0GGmlT3_Aj"
   },
   "outputs": [
    {
     "name": "stdout",
     "output_type": "stream",
     "text": [
      "hola\n",
      "  \t como\n",
      "va\n"
     ]
    }
   ],
   "source": [
    "for linea in separo:\n",
    "    if not len(linea) ==0:\n",
    "        print(linea)"
   ]
  },
  {
   "cell_type": "markdown",
   "metadata": {
    "id": "rrAId6LlFBmN"
   },
   "source": [
    "### Ejemplo de manejo de string y diccionario"
   ]
  },
  {
   "cell_type": "markdown",
   "metadata": {
    "id": "AoCCYBlu3czf"
   },
   "source": [
    "Las líneas con espacios en el comienzo podemos identificarlas de la siguiente forma:"
   ]
  },
  {
   "cell_type": "code",
   "execution_count": 103,
   "metadata": {
    "colab": {
     "base_uri": "https://localhost:8080/"
    },
    "id": "l_bJMvQC4Kov",
    "outputId": "c52e40d9-4689-458a-c477-41a768bdfb39"
   },
   "outputs": [
    {
     "name": "stdout",
     "output_type": "stream",
     "text": [
      "hola\n",
      "  \t como\n",
      "va\n"
     ]
    }
   ],
   "source": [
    "for linea in separo:\n",
    "    if not len(linea) ==0:\n",
    "        if linea.split(' ')[0].isspace():\n",
    "            print(linea)\n",
    "        else:\n",
    "            print(linea)\n",
    "  \n",
    "    "
   ]
  },
  {
   "cell_type": "markdown",
   "metadata": {
    "id": "atQElhu250M6"
   },
   "source": [
    "Por lo tanto, volviendo al string que teníamos con filtros y opciones, veamos como organizar para poder saber lo que buscábamos:"
   ]
  },
  {
   "cell_type": "code",
   "execution_count": 104,
   "metadata": {
    "id": "BnNeOo1c12LK"
   },
   "outputs": [],
   "source": [
    "info_filtros = info.split('\\n')"
   ]
  },
  {
   "cell_type": "markdown",
   "metadata": {
    "id": "GNFxb2kp6FHt"
   },
   "source": [
    "Creamos una estructura para guardar los nombres de los filtros y asociar las opciones de cada una:"
   ]
  },
  {
   "cell_type": "code",
   "execution_count": 105,
   "metadata": {
    "id": "HhJ1UvIvbYlw"
   },
   "outputs": [],
   "source": [
    "filtros = {}\n",
    "for cada_linea in info_filtros:   \n",
    "    if not len(cada_linea) == 0:\n",
    "        if not cada_linea.split(' ')[0] == '':\n",
    "            filtros[cada_linea] = []\n",
    "            filtro_actual = cada_linea\n",
    "        else:\n",
    "             filtros[filtro_actual].append(cada_linea.strip())"
   ]
  },
  {
   "cell_type": "markdown",
   "metadata": {
    "id": "iOzmNJuO8C-_"
   },
   "source": [
    "Veamos el contenido de la estructura:"
   ]
  },
  {
   "cell_type": "code",
   "execution_count": 108,
   "metadata": {
    "colab": {
     "base_uri": "https://localhost:8080/"
    },
    "id": "-tmv5gDw8CUS",
    "outputId": "7607826c-b483-429a-8802-f93a2b4f1337"
   },
   "outputs": [
    {
     "data": {
      "text/plain": [
       "{'Ubicación': ['Capital Federal(245)',\n",
       "  'Bs.As. G.B.A. Sur(200)',\n",
       "  'Bs.As. G.B.A. Oeste(181)',\n",
       "  'Bs.As. G.B.A. Norte(163)',\n",
       "  'Buenos Aires Interior(107)',\n",
       "  'Córdoba(81)',\n",
       "  'Santa Fe(35)',\n",
       "  'Bs.As. Costa Atlántica(22)',\n",
       "  'Entre Ríos(18)'],\n",
       " 'Modelo': ['FZ16(190)',\n",
       "  'FZ25(136)',\n",
       "  'FZ(124)',\n",
       "  'FZFI(102)',\n",
       "  'FZ 2.0(43)',\n",
       "  'FZS(16)',\n",
       "  'Fazer Fi(13)',\n",
       "  'FZ6 FAZER(12)',\n",
       "  'Fazer 250(9)'],\n",
       " 'Cilindrada': ['150 cc o menos(529)',\n",
       "  '150 a 160 cc(700)',\n",
       "  '160 cc o más(521)']}"
      ]
     },
     "execution_count": 108,
     "metadata": {},
     "output_type": "execute_result"
    }
   ],
   "source": [
    "filtros"
   ]
  },
  {
   "cell_type": "code",
   "execution_count": null,
   "metadata": {
    "id": "E3eKKy4sN4qG"
   },
   "outputs": [],
   "source": []
  }
 ],
 "metadata": {
  "colab": {
   "collapsed_sections": [
    "48Xe6jnaiCM8",
    "p2ppgPdfCxVd",
    "xfpvzjSCvIUm",
    "S1c-wHl7OLEa"
   ],
   "name": "Explicación Practica 2.ipynb",
   "provenance": []
  },
  "kernelspec": {
   "display_name": "Python 3",
   "language": "python",
   "name": "python3"
  },
  "language_info": {
   "codemirror_mode": {
    "name": "ipython",
    "version": 3
   },
   "file_extension": ".py",
   "mimetype": "text/x-python",
   "name": "python",
   "nbconvert_exporter": "python",
   "pygments_lexer": "ipython3",
   "version": "3.8.5"
  }
 },
 "nbformat": 4,
 "nbformat_minor": 4
}
